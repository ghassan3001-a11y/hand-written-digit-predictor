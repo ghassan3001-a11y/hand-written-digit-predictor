{
 "cells": [
  {
   "cell_type": "markdown",
   "id": "0fb4ff3f",
   "metadata": {},
   "source": [
    "# MNIST Data Exploration"
   ]
  },
  {
   "cell_type": "code",
   "execution_count": 1,
   "id": "3961735a",
   "metadata": {},
   "outputs": [],
   "source": [
    "import sys\n",
    "import os\n",
    "import matplotlib.pyplot as plt\n",
    "\n",
    "# Add the src directory to the Python path\n",
    "# Use a relative path that works in the notebook environment\n",
    "sys.path.append(os.path.abspath(os.path.join('.', '..', 'src')))\n",
    "\n",
    "from data_preprocessing import load_and_preprocess_data"
   ]
  },
  {
   "cell_type": "code",
   "execution_count": 2,
   "id": "ea985490",
   "metadata": {},
   "outputs": [],
   "source": [
    "# Load the data\n",
    "X_train, X_test, y_train, y_test = load_and_preprocess_data()"
   ]
  },
  {
   "cell_type": "markdown",
   "id": "2fe90648",
   "metadata": {},
   "source": [
    "## Visualize a sample digit"
   ]
  },
  {
   "cell_type": "code",
   "execution_count": 3,
   "id": "7a097da9",
   "metadata": {},
   "outputs": [
    {
     "data": {
      "image/png": "[encoded data removed]",
      "text/plain": [
       "<Figure size 640x480 with 1 Axes>"
      ]
     },
     "metadata": {},
     "output_type": "display_data"
    }
   ],
   "source": [
    "some_digit = X_train[0]\n",
    "some_digit_image = some_digit.reshape(28, 28)\n",
    "\n",
    "plt.imshow(some_digit_image, cmap=\"binary\")\n",
    "plt.axis(\"off\")\n",
    "plt.show()"
   ]
  },
  {
   "cell_type": "markdown",
   "id": "fc9dbad1",
   "metadata": {},
   "source": [
    "## Check the label of the sample digit"
   ]
  },
  {
   "cell_type": "code",
   "execution_count": 4,
   "id": "10098529",
   "metadata": {},
   "outputs": [
    {
     "data": {
      "text/plain": [
       "'5'"
      ]
     },
     "execution_count": 4,
     "metadata": {},
     "output_type": "execute_result"
    }
   ],
   "source": [
    "y_train[0]"
   ]
  }
 ],
 "metadata": {
  "kernelspec": {
   "display_name": "ghassan",
   "language": "python",
   "name": "python3"
  },
  "language_info": {
   "codemirror_mode": {
    "name": "ipython",
    "version": 3
   },
   "file_extension": ".py",
   "mimetype": "text/x-python",
   "name": "python",
   "nbconvert_exporter": "python",
   "pygments_lexer": "ipython3",
   "version": "3.12.3"
  }
 },
 "nbformat": 4,
 "nbformat_minor": 5
}
